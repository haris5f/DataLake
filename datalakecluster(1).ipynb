{
 "cells": [
  {
   "cell_type": "code",
   "execution_count": 1,
   "id": "b3e27bbc",
   "metadata": {},
   "outputs": [
    {
     "data": {
      "application/vnd.jupyter.widget-view+json": {
       "model_id": "4251b34b5c7a463295074de579dfc6cd",
       "version_major": 2,
       "version_minor": 0
      },
      "text/plain": [
       "VBox()"
      ]
     },
     "metadata": {},
     "output_type": "display_data"
    },
    {
     "name": "stdout",
     "output_type": "stream",
     "text": [
      "Starting Spark application\n"
     ]
    },
    {
     "data": {
      "text/html": [
       "<table>\n",
       "<tr><th>ID</th><th>YARN Application ID</th><th>Kind</th><th>State</th><th>Spark UI</th><th>Driver log</th><th>Current session?</th></tr><tr><td>7</td><td>application_1628715867829_0008</td><td>pyspark</td><td>idle</td><td><a target=\"_blank\" href=\"http://ip-172-31-6-104.us-west-2.compute.internal:20888/proxy/application_1628715867829_0008/\" class=\"emr-proxy-link\" emr-resource=\"j-QHVRCUU1A9N\n",
       "\" application-id=\"application_1628715867829_0008\">Link</a></td><td><a target=\"_blank\" href=\"http://ip-172-31-5-117.us-west-2.compute.internal:8042/node/containerlogs/container_1628715867829_0008_01_000001/livy\" >Link</a></td><td>✔</td></tr></table>"
      ],
      "text/plain": [
       "<IPython.core.display.HTML object>"
      ]
     },
     "metadata": {},
     "output_type": "display_data"
    },
    {
     "data": {
      "application/vnd.jupyter.widget-view+json": {
       "model_id": "",
       "version_major": 2,
       "version_minor": 0
      },
      "text/plain": [
       "FloatProgress(value=0.0, bar_style='info', description='Progress:', layout=Layout(height='25px', width='50%'),…"
      ]
     },
     "metadata": {},
     "output_type": "display_data"
    },
    {
     "name": "stdout",
     "output_type": "stream",
     "text": [
      "SparkSession available as 'spark'.\n"
     ]
    },
    {
     "data": {
      "application/vnd.jupyter.widget-view+json": {
       "model_id": "",
       "version_major": 2,
       "version_minor": 0
      },
      "text/plain": [
       "FloatProgress(value=0.0, bar_style='info', description='Progress:', layout=Layout(height='25px', width='50%'),…"
      ]
     },
     "metadata": {},
     "output_type": "display_data"
    }
   ],
   "source": [
    "%%spark"
   ]
  },
  {
   "cell_type": "code",
   "execution_count": 2,
   "id": "7cf8a6af",
   "metadata": {},
   "outputs": [
    {
     "data": {
      "application/vnd.jupyter.widget-view+json": {
       "model_id": "dd676904eb054e40a95f9d250750851d",
       "version_major": 2,
       "version_minor": 0
      },
      "text/plain": [
       "VBox()"
      ]
     },
     "metadata": {},
     "output_type": "display_data"
    },
    {
     "data": {
      "application/vnd.jupyter.widget-view+json": {
       "model_id": "",
       "version_major": 2,
       "version_minor": 0
      },
      "text/plain": [
       "FloatProgress(value=0.0, bar_style='info', description='Progress:', layout=Layout(height='25px', width='50%'),…"
      ]
     },
     "metadata": {},
     "output_type": "display_data"
    }
   ],
   "source": [
    "from pyspark.sql.types import StructType as R, StructField as Fld, DoubleType as Dbl, StringType as Str, IntegerType as Int, DateType as Date,TimestampType as Tst\n"
   ]
  },
  {
   "cell_type": "code",
   "execution_count": 3,
   "id": "ebccc5a5",
   "metadata": {},
   "outputs": [
    {
     "data": {
      "application/vnd.jupyter.widget-view+json": {
       "model_id": "915f6bc1869f400598da02248b0278dc",
       "version_major": 2,
       "version_minor": 0
      },
      "text/plain": [
       "VBox()"
      ]
     },
     "metadata": {},
     "output_type": "display_data"
    },
    {
     "data": {
      "application/vnd.jupyter.widget-view+json": {
       "model_id": "",
       "version_major": 2,
       "version_minor": 0
      },
      "text/plain": [
       "FloatProgress(value=0.0, bar_style='info', description='Progress:', layout=Layout(height='25px', width='50%'),…"
      ]
     },
     "metadata": {},
     "output_type": "display_data"
    }
   ],
   "source": [
    "songSchema = R([\n",
    "    Fld(\"num_songs\",Int()),\n",
    "    Fld(\"artist_id\",Str()),\n",
    "    Fld(\"artist_latitude\",Dbl()),\n",
    "    Fld(\"artist_longitude\",Str()),\n",
    "    Fld(\"artist_location\",Str()),\n",
    "    Fld(\"artist_name\",Date()),\n",
    "    Fld(\"song_id\",Str()),\n",
    "    Fld(\"title\",Str()),\n",
    "    Fld(\"duration\",Dbl()),\n",
    "    Fld(\"year\",Int()),\n",
    "    \n",
    "])"
   ]
  },
  {
   "cell_type": "code",
   "execution_count": 4,
   "id": "8d050bfd",
   "metadata": {},
   "outputs": [
    {
     "data": {
      "application/vnd.jupyter.widget-view+json": {
       "model_id": "7487127aa38a4e379b60cc32bdf480e8",
       "version_major": 2,
       "version_minor": 0
      },
      "text/plain": [
       "VBox()"
      ]
     },
     "metadata": {},
     "output_type": "display_data"
    },
    {
     "data": {
      "application/vnd.jupyter.widget-view+json": {
       "model_id": "",
       "version_major": 2,
       "version_minor": 0
      },
      "text/plain": [
       "FloatProgress(value=0.0, bar_style='info', description='Progress:', layout=Layout(height='25px', width='50%'),…"
      ]
     },
     "metadata": {},
     "output_type": "display_data"
    }
   ],
   "source": [
    "df = spark.read.json(\"s3a://udacity-dend/song_data/*/*/*/*.json\")"
   ]
  },
  {
   "cell_type": "code",
   "execution_count": 5,
   "id": "1c0fbb39",
   "metadata": {},
   "outputs": [
    {
     "data": {
      "application/vnd.jupyter.widget-view+json": {
       "model_id": "a005af801f6d4577bb89b1318839da9b",
       "version_major": 2,
       "version_minor": 0
      },
      "text/plain": [
       "VBox()"
      ]
     },
     "metadata": {},
     "output_type": "display_data"
    },
    {
     "data": {
      "application/vnd.jupyter.widget-view+json": {
       "model_id": "",
       "version_major": 2,
       "version_minor": 0
      },
      "text/plain": [
       "FloatProgress(value=0.0, bar_style='info', description='Progress:', layout=Layout(height='25px', width='50%'),…"
      ]
     },
     "metadata": {},
     "output_type": "display_data"
    },
    {
     "name": "stdout",
     "output_type": "stream",
     "text": [
      "root\n",
      " |-- artist_id: string (nullable = true)\n",
      " |-- artist_latitude: double (nullable = true)\n",
      " |-- artist_location: string (nullable = true)\n",
      " |-- artist_longitude: double (nullable = true)\n",
      " |-- artist_name: string (nullable = true)\n",
      " |-- duration: double (nullable = true)\n",
      " |-- num_songs: long (nullable = true)\n",
      " |-- song_id: string (nullable = true)\n",
      " |-- title: string (nullable = true)\n",
      " |-- year: long (nullable = true)"
     ]
    }
   ],
   "source": [
    "df.printSchema()"
   ]
  },
  {
   "cell_type": "code",
   "execution_count": 6,
   "id": "5a359404",
   "metadata": {},
   "outputs": [
    {
     "data": {
      "application/vnd.jupyter.widget-view+json": {
       "model_id": "64d7cbd358014c0ca80f15f53e6d03c2",
       "version_major": 2,
       "version_minor": 0
      },
      "text/plain": [
       "VBox()"
      ]
     },
     "metadata": {},
     "output_type": "display_data"
    },
    {
     "data": {
      "application/vnd.jupyter.widget-view+json": {
       "model_id": "",
       "version_major": 2,
       "version_minor": 0
      },
      "text/plain": [
       "FloatProgress(value=0.0, bar_style='info', description='Progress:', layout=Layout(height='25px', width='50%'),…"
      ]
     },
     "metadata": {},
     "output_type": "display_data"
    },
    {
     "name": "stdout",
     "output_type": "stream",
     "text": [
      "+------------------+---------------+--------------------+----------------+--------------------+---------+---------+------------------+--------------------+----+\n",
      "|         artist_id|artist_latitude|     artist_location|artist_longitude|         artist_name| duration|num_songs|           song_id|               title|year|\n",
      "+------------------+---------------+--------------------+----------------+--------------------+---------+---------+------------------+--------------------+----+\n",
      "|AR4T2IF1187B9ADBB7|       63.96027|<a href=\"http://b...|        10.22442|          Billy Idol|233.22077|        1|SOVIYJY12AF72A4B00|The Dead Next Doo...|1983|\n",
      "|AR4T2IF1187B9ADBB7|       63.96027|<a href=\"http://b...|        10.22442|          Billy Idol|287.92118|        1|SOVYXYL12AF72A3373|Rebel Yell (1999 ...|1983|\n",
      "|ARQ846I1187B9A7083|           null|                    |            null|Yvonne S. Moriart...|196.04853|        1|SOEPTVC12A67ADD0DA|To Zucchabar [\"Gl...|   0|\n",
      "|AR4T2IF1187B9ADBB7|       63.96027|<a href=\"http://b...|        10.22442|          Billy Idol|247.53587|        1|SOLQYSZ12AB0181F97|    Mony Mony (Live)|1987|\n",
      "|AR3TZ691187FB3DBB1|           null|                    |            null|Russell Watson / ...|273.44934|        1|SOVPFJK12A6701CB16|Barcelona - (Frie...|2000|\n",
      "+------------------+---------------+--------------------+----------------+--------------------+---------+---------+------------------+--------------------+----+\n",
      "only showing top 5 rows"
     ]
    }
   ],
   "source": [
    "df.show(5)"
   ]
  },
  {
   "cell_type": "code",
   "execution_count": 7,
   "id": "c045c8b0",
   "metadata": {},
   "outputs": [
    {
     "data": {
      "application/vnd.jupyter.widget-view+json": {
       "model_id": "a096fd19e267436e84f1abdf0a42c862",
       "version_major": 2,
       "version_minor": 0
      },
      "text/plain": [
       "VBox()"
      ]
     },
     "metadata": {},
     "output_type": "display_data"
    },
    {
     "data": {
      "application/vnd.jupyter.widget-view+json": {
       "model_id": "",
       "version_major": 2,
       "version_minor": 0
      },
      "text/plain": [
       "FloatProgress(value=0.0, bar_style='info', description='Progress:', layout=Layout(height='25px', width='50%'),…"
      ]
     },
     "metadata": {},
     "output_type": "display_data"
    }
   ],
   "source": [
    "df.createOrReplaceTempView(\"songs\")\n",
    "songs_table = spark.sql(\"\"\"\n",
    "    SELECT DISTINCT song_id, title, artist_id, year, duration\n",
    "    FROM songs\n",
    "    WHERE song_id IS NOT NULL\n",
    "\"\"\")"
   ]
  },
  {
   "cell_type": "code",
   "execution_count": null,
   "id": "666d76f3",
   "metadata": {},
   "outputs": [],
   "source": []
  },
  {
   "cell_type": "code",
   "execution_count": null,
   "id": "1f944e4e",
   "metadata": {
    "scrolled": true
   },
   "outputs": [
    {
     "data": {
      "application/vnd.jupyter.widget-view+json": {
       "model_id": "ecacef3aa97b4abc930794ea7345a351",
       "version_major": 2,
       "version_minor": 0
      },
      "text/plain": [
       "VBox()"
      ]
     },
     "metadata": {},
     "output_type": "display_data"
    },
    {
     "data": {
      "application/vnd.jupyter.widget-view+json": {
       "model_id": "a30bd488610d490ca27ace054c73531e",
       "version_major": 2,
       "version_minor": 0
      },
      "text/plain": [
       "FloatProgress(value=0.0, bar_style='info', description='Progress:', layout=Layout(height='25px', width='50%'),…"
      ]
     },
     "metadata": {},
     "output_type": "display_data"
    }
   ],
   "source": [
    "songs_table.write.mode(\"overwrite\").partitionBy(\"year\",\"artist_id\").parquet(\"s3a://mynewlakebucket/songs/\")"
   ]
  },
  {
   "cell_type": "code",
   "execution_count": null,
   "id": "f85889df",
   "metadata": {},
   "outputs": [],
   "source": [
    "df3 = spark.sql(\"\"\"\n",
    "    SELECT \n",
    "        DISTINCT artist_id, artist_name AS name, artist_location AS location, artist_latitude AS latitude , artist_longitude AS longitude \n",
    "    FROM songs\n",
    "    WHERE artist_id IS NOT NULL\n",
    "\"\"\")"
   ]
  },
  {
   "cell_type": "code",
   "execution_count": null,
   "id": "3aeeb8ac",
   "metadata": {},
   "outputs": [],
   "source": [
    "df3.show(5)"
   ]
  },
  {
   "cell_type": "code",
   "execution_count": null,
   "id": "3adc3fec",
   "metadata": {},
   "outputs": [],
   "source": [
    "df3.write.mode(\"overwrite\").parquet(\"s3a://mynewlakebucket/artists/\")"
   ]
  },
  {
   "cell_type": "code",
   "execution_count": null,
   "id": "3f1134a6",
   "metadata": {},
   "outputs": [],
   "source": [
    "df_log = spark.read.json(\"s3a://udacity-dend/log_data/*/*/*.json\")"
   ]
  },
  {
   "cell_type": "code",
   "execution_count": null,
   "id": "c61b3e28",
   "metadata": {},
   "outputs": [],
   "source": [
    "df_log.printSchema()"
   ]
  },
  {
   "cell_type": "code",
   "execution_count": null,
   "id": "745d6b99",
   "metadata": {},
   "outputs": [],
   "source": [
    "df_log = df_log.filter(df_log.page == 'NextSong')"
   ]
  },
  {
   "cell_type": "code",
   "execution_count": null,
   "id": "2a793264",
   "metadata": {},
   "outputs": [],
   "source": [
    "df_log.createOrReplaceTempView(\"log\")"
   ]
  },
  {
   "cell_type": "code",
   "execution_count": null,
   "id": "105607ec",
   "metadata": {},
   "outputs": [],
   "source": [
    "df_users = spark.sql(\"\"\"\n",
    "    SELECT DISTINCT userId as user_id, firstName as first_name, lastName as last_name, gender, level\n",
    "    FROM log\n",
    "\"\"\")"
   ]
  },
  {
   "cell_type": "code",
   "execution_count": null,
   "id": "3ddb03f3",
   "metadata": {},
   "outputs": [],
   "source": [
    "df_users.show(5)"
   ]
  },
  {
   "cell_type": "code",
   "execution_count": null,
   "id": "9d070365",
   "metadata": {},
   "outputs": [],
   "source": [
    "df_users.write.mode(\"overwrite\").parquet(\"s3a://mynewlakebucket/users\")"
   ]
  },
  {
   "cell_type": "code",
   "execution_count": null,
   "id": "11e59731",
   "metadata": {},
   "outputs": [],
   "source": [
    "import  pyspark.sql.functions as F\n",
    "import datetime"
   ]
  },
  {
   "cell_type": "code",
   "execution_count": null,
   "id": "9537bef7",
   "metadata": {},
   "outputs": [],
   "source": [
    "df_log_ts = df_log.select('ts')"
   ]
  },
  {
   "cell_type": "code",
   "execution_count": null,
   "id": "a2b8e0d7",
   "metadata": {},
   "outputs": [],
   "source": [
    "df_log_ts.show(1)"
   ]
  },
  {
   "cell_type": "code",
   "execution_count": null,
   "id": "1ca1d7ca",
   "metadata": {},
   "outputs": [],
   "source": []
  },
  {
   "cell_type": "code",
   "execution_count": null,
   "id": "761aa04c",
   "metadata": {},
   "outputs": [],
   "source": [
    "df_log_ts.show(1)\n"
   ]
  },
  {
   "cell_type": "code",
   "execution_count": null,
   "id": "1a44e8f8",
   "metadata": {},
   "outputs": [],
   "source": []
  },
  {
   "cell_type": "code",
   "execution_count": null,
   "id": "3b98f918",
   "metadata": {},
   "outputs": [],
   "source": [
    "from pyspark.sql.functions import udf,col\n"
   ]
  },
  {
   "cell_type": "code",
   "execution_count": null,
   "id": "101fb913",
   "metadata": {},
   "outputs": [],
   "source": [
    "get_timestamp = udf(lambda x: datetime.datetime.fromtimestamp(x / 1000),Tst())"
   ]
  },
  {
   "cell_type": "code",
   "execution_count": null,
   "id": "80073419",
   "metadata": {},
   "outputs": [],
   "source": [
    "df_log = df_log.withColumn(\"datetime\", get_timestamp(df_log.ts))"
   ]
  },
  {
   "cell_type": "code",
   "execution_count": null,
   "id": "77194fee",
   "metadata": {},
   "outputs": [],
   "source": [
    "df_log.select('datetime').show(5)"
   ]
  },
  {
   "cell_type": "code",
   "execution_count": null,
   "id": "216db6f7",
   "metadata": {},
   "outputs": [],
   "source": [
    "df_log.createOrReplaceTempView(\"timetable\")"
   ]
  },
  {
   "cell_type": "code",
   "execution_count": null,
   "id": "5d4c4e8c",
   "metadata": {},
   "outputs": [],
   "source": [
    "df_time = spark.sql(\"\"\"\n",
    "    SELECT \n",
    "        DISTINCT datetime as start_time, \n",
    "        EXTRACT(HOUR FROM datetime) as hour,\n",
    "        EXTRACT(DAY FROM datetime) as day,\n",
    "        EXTRACT(WEEK FROM datetime) as week,\n",
    "        EXTRACT(MONTH FROM datetime) as month,\n",
    "        EXTRACT(YEAR FROM datetime) as year,\n",
    "        EXTRACT(DAYOFWEEK FROM datetime) as weekday\n",
    "    FROM timetable\n",
    "\n",
    "\"\"\")"
   ]
  },
  {
   "cell_type": "code",
   "execution_count": null,
   "id": "bc0717fa",
   "metadata": {},
   "outputs": [],
   "source": [
    "df_time.show(5)"
   ]
  },
  {
   "cell_type": "code",
   "execution_count": null,
   "id": "28cb0314",
   "metadata": {},
   "outputs": [],
   "source": [
    "df_time.write.mode(\"overwrite\").partitionBy(\"year\",\"month\").parquet(\"s3a://mynewlakebucket/time\")"
   ]
  },
  {
   "cell_type": "code",
   "execution_count": null,
   "id": "cf99d01c",
   "metadata": {},
   "outputs": [],
   "source": [
    "df.createOrReplaceTempView(\"songs\")\n"
   ]
  },
  {
   "cell_type": "code",
   "execution_count": null,
   "id": "3bc42366",
   "metadata": {},
   "outputs": [],
   "source": []
  },
  {
   "cell_type": "code",
   "execution_count": null,
   "id": "9a0b2893",
   "metadata": {},
   "outputs": [],
   "source": []
  },
  {
   "cell_type": "code",
   "execution_count": null,
   "id": "1f0af9bd",
   "metadata": {},
   "outputs": [],
   "source": [
    "df_log.printSchema()\n",
    "df.printSchema()"
   ]
  },
  {
   "cell_type": "code",
   "execution_count": null,
   "id": "2f923bb8",
   "metadata": {},
   "outputs": [],
   "source": [
    "df_songplays = spark.sql(\"\"\"\n",
    "    SELECT\n",
    "        \n",
    "        t.datetime as start_time,\n",
    "        t.userId, t.level, s.song_id, s.artist_id,\n",
    "        t.sessionId, s.artist_location, t.userAgent,\n",
    "        EXTRACT(MONTH FROM t.datetime) as month,\n",
    "        EXTRACT(YEAR FROM t.datetime) as year\n",
    "    FROM songs s,timetable t\n",
    "    WHERE t.artist = s.artist_name\n",
    "    AND t.song = s.title\n",
    "\"\"\")"
   ]
  },
  {
   "cell_type": "code",
   "execution_count": null,
   "id": "9a2422b1",
   "metadata": {},
   "outputs": [],
   "source": [
    "df_songplays.show(5)"
   ]
  },
  {
   "cell_type": "code",
   "execution_count": null,
   "id": "8c458df0",
   "metadata": {},
   "outputs": [],
   "source": [
    "import pyspark.sql.functions as psf"
   ]
  },
  {
   "cell_type": "code",
   "execution_count": null,
   "id": "3be8e147",
   "metadata": {},
   "outputs": [],
   "source": [
    "df_songplays = df_songplays.withColumn('songplay_id', psf.monotonically_increasing_id())\n"
   ]
  },
  {
   "cell_type": "code",
   "execution_count": null,
   "id": "50c7458d",
   "metadata": {},
   "outputs": [],
   "source": [
    "df_songplays.write.mode(\"overwrite\").partitionBy(\"year\",\"month\").parquet(\"s3a://mynewlakebucket/\" + \"songplays/\")"
   ]
  },
  {
   "cell_type": "code",
   "execution_count": null,
   "id": "40d0ce3d",
   "metadata": {},
   "outputs": [],
   "source": []
  },
  {
   "cell_type": "code",
   "execution_count": null,
   "id": "c03e4d60",
   "metadata": {},
   "outputs": [],
   "source": []
  },
  {
   "cell_type": "code",
   "execution_count": null,
   "id": "9f3edf02",
   "metadata": {},
   "outputs": [],
   "source": []
  },
  {
   "cell_type": "code",
   "execution_count": null,
   "id": "c1cae347",
   "metadata": {},
   "outputs": [],
   "source": []
  },
  {
   "cell_type": "code",
   "execution_count": null,
   "id": "875ba80b",
   "metadata": {},
   "outputs": [],
   "source": []
  },
  {
   "cell_type": "code",
   "execution_count": null,
   "id": "d7cb13a5",
   "metadata": {},
   "outputs": [],
   "source": []
  },
  {
   "cell_type": "code",
   "execution_count": null,
   "id": "b835fa94",
   "metadata": {},
   "outputs": [],
   "source": []
  }
 ],
 "metadata": {
  "kernelspec": {
   "display_name": "PySpark",
   "language": "",
   "name": "pysparkkernel"
  },
  "language_info": {
   "codemirror_mode": {
    "name": "python",
    "version": 3
   },
   "mimetype": "text/x-python",
   "name": "pyspark",
   "pygments_lexer": "python3"
  }
 },
 "nbformat": 4,
 "nbformat_minor": 5
}
